{
 "cells": [
  {
   "cell_type": "markdown",
   "metadata": {},
   "source": [
    "## opgave 5"
   ]
  },
  {
   "cell_type": "code",
   "execution_count": 10,
   "metadata": {},
   "outputs": [
    {
     "name": "stdout",
     "output_type": "stream",
     "text": [
      "0.15384615384615385\n",
      "2 6 5\n"
     ]
    }
   ],
   "source": [
    "import numpy as np\n",
    "s1 = \"the bag of words representation becomes less parsimoneous\"\n",
    "s2 = \"if we do not stem the words\"\n",
    "s1, s2 = s1.split(), s2.split()\n",
    "a = 0\n",
    "for i in s1:\n",
    "    if i in s2:\n",
    "        a += 1\n",
    "        s1.remove(f\"{i}\")\n",
    "        s2.remove(f\"{i}\")\n",
    "print(a/(a+len(s1)+len(s2)))\n",
    "print(a, len(s1), len(s2))"
   ]
  },
  {
   "cell_type": "code",
   "execution_count": 11,
   "metadata": {},
   "outputs": [
    {
     "name": "stdout",
     "output_type": "stream",
     "text": [
      "Impurity Gain for the split x7 = 2: 0.0074\n"
     ]
    }
   ],
   "source": [
    "# Function to calculate classification error impurity\n",
    "def classification_error_impurity(counts):\n",
    "    total = sum(counts)\n",
    "    max_class = max(counts)\n",
    "    return 1 - max_class / total\n",
    "\n",
    "# Function to calculate impurity gain\n",
    "def impurity_gain(parent_counts, left_counts, right_counts):\n",
    "    parent_impurity = classification_error_impurity(parent_counts)\n",
    "    left_impurity = classification_error_impurity(left_counts)\n",
    "    right_impurity = classification_error_impurity(right_counts)\n",
    "    total = sum(parent_counts)\n",
    "    total_left = sum(left_counts)\n",
    "    total_right = sum(right_counts)\n",
    "    weighted_impurity = (total_left / total) * left_impurity + (total_right / total) * right_impurity\n",
    "    return parent_impurity - weighted_impurity\n",
    "\n",
    "# Counts for x7 = 0, x7 = 1, and x7 = 2 for each class\n",
    "counts_0 = [33, 28, 30, 29]  # x7 = 0\n",
    "counts_1 = [4, 2, 3, 5]      # x7 = 1\n",
    "counts_2 = [0, 1, 0, 0]      # x7 = 2\n",
    "\n",
    "# Combine x7 = 0 and x7 = 1 for the left branch, x7 = 2 for the right branch\n",
    "left_branch_counts = [sum(x) for x in zip(counts_0, counts_1)]\n",
    "right_branch_counts = counts_2\n",
    "parent_counts = [sum(x) for x in zip(left_branch_counts, right_branch_counts)]\n",
    "\n",
    "# Calculate impurity gain\n",
    "gain = impurity_gain(parent_counts, left_branch_counts, right_branch_counts)\n",
    "\n",
    "print(f\"Impurity Gain for the split x7 = 2: {gain:.4f}\")\n"
   ]
  },
  {
   "cell_type": "markdown",
   "metadata": {},
   "source": [
    "### Opgave 6"
   ]
  },
  {
   "cell_type": "code",
   "execution_count": 20,
   "metadata": {},
   "outputs": [
    {
     "name": "stdout",
     "output_type": "stream",
     "text": [
      "3.02532299599611e-6\n",
      "0.730457036306225\n",
      "1.76749832002046e-6\n",
      "4.65638448588746e-6\n"
     ]
    }
   ],
   "source": [
    "import sympy as sp\n",
    "\n",
    "w1 = sp.Matrix([1.2,-2.1,3.2])\n",
    "w2 = sp.Matrix([1.2,-1.7,2.9])\n",
    "w3 = sp.Matrix([1.3,-1.1,2.2])\n",
    "\n",
    "b1 = sp.Matrix([1,-1.4,2.6])\n",
    "b2 = sp.Matrix([1,-0.6, -1.6])\n",
    "b3 = sp.Matrix([1,2.1, 5.0])\n",
    "b4 = sp.Matrix([1,0.7, 3.8])\n",
    "\n",
    "def k_calculator(b):\n",
    "    y_1 = b.dot(w1)\n",
    "    y_2 = b.dot(w2)\n",
    "    y_3 = b.dot(w3)\n",
    "\n",
    "    # Now for calculating the likelihood of y being 4:\n",
    "    P = 1 / (1 +sp.exp(y_1) + sp.exp(y_2)+ sp.exp(y_3))\n",
    "    return P\n",
    "\n",
    "print(k_calculator(b1))\n",
    "print(k_calculator(b2))\n",
    "print(k_calculator(b3))\n",
    "print(k_calculator(b4))\n"
   ]
  }
 ],
 "metadata": {
  "kernelspec": {
   "display_name": "ML_DM",
   "language": "python",
   "name": "python3"
  },
  "language_info": {
   "codemirror_mode": {
    "name": "ipython",
    "version": 3
   },
   "file_extension": ".py",
   "mimetype": "text/x-python",
   "name": "python",
   "nbconvert_exporter": "python",
   "pygments_lexer": "ipython3",
   "version": "3.11.5"
  }
 },
 "nbformat": 4,
 "nbformat_minor": 2
}
