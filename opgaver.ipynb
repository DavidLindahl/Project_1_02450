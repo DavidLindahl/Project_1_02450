{
 "cells": [
  {
   "cell_type": "markdown",
   "metadata": {},
   "source": [
    "## opgave 5"
   ]
  },
  {
   "cell_type": "code",
   "execution_count": 7,
   "metadata": {},
   "outputs": [
    {
     "name": "stdout",
     "output_type": "stream",
     "text": [
      "0.15384615384615385\n",
      "2 6 5\n"
     ]
    }
   ],
   "source": [
    "import numpy as np\n",
    "s1 = \"the bag of words representation becomes less parsimoneous\"\n",
    "s2 = \"if we do not stem the words\"\n",
    "s1, s2 = s1.split(), s2.split()\n",
    "a = 0\n",
    "for i in s1:\n",
    "    if i in s2:\n",
    "        a += 1\n",
    "        s1.remove(f\"{i}\")\n",
    "        s2.remove(f\"{i}\")\n",
    "print(a/(a+len(s1)+len(s2)))\n",
    "print(a, len(s1), len(s2))"
   ]
  }
 ],
 "metadata": {
  "kernelspec": {
   "display_name": "ML_DM",
   "language": "python",
   "name": "python3"
  },
  "language_info": {
   "codemirror_mode": {
    "name": "ipython",
    "version": 3
   },
   "file_extension": ".py",
   "mimetype": "text/x-python",
   "name": "python",
   "nbconvert_exporter": "python",
   "pygments_lexer": "ipython3",
   "version": "3.11.7"
  }
 },
 "nbformat": 4,
 "nbformat_minor": 2
}
